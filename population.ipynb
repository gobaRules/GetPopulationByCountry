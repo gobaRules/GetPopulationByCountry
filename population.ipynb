{
 "cells": [
  {
   "cell_type": "markdown",
   "metadata": {},
   "source": [
    "# And how many people live in your country?\n",
    "\n",
    "- Input (or paste) the names of the countries in the left textbox so that each name is in its own row.\n",
    "- Clik the button and population for each of the countries will (well, shall:) be displayed in the right textbox.\n",
    "\n",
    "An example of valid input:\n",
    "\n",
    "<b>Belgium\n",
    "<b>Slovenia\n",
    "<b>Zimbabwe\n",
    "\n",
    "<small>Population is retrieved using \"Determine total population for a given country on a given date\" service found here: http://api.population.io/#!/population/determineTotalPopulationByDate</small>"
   ]
  },
  {
   "cell_type": "code",
   "execution_count": 1,
   "metadata": {},
   "outputs": [
    {
     "data": {
      "application/vnd.jupyter.widget-view+json": {
       "model_id": "de9603a68c1f4c2b89a74f4c473993c1",
       "version_major": 2,
       "version_minor": 0
      },
      "text/plain": [
       "A Jupyter Widget"
      ]
     },
     "metadata": {},
     "output_type": "display_data"
    }
   ],
   "source": [
    "import ipywidgets as ipw\n",
    "import requests\n",
    "\n",
    "countries = ipw.Textarea(placeholder=\"List country names, one in each row.\", layout=ipw.Layout(width=\"150px\", height=\"250px\"))\n",
    "people = ipw.Textarea(placeholder=\"\", layout=ipw.Layout(width=\"150px\", height=\"250px\"))\n",
    "\n",
    "def on_click(btn):\n",
    "    people.value = ''\n",
    "    countries_split = countries.value.split('\\n')\n",
    "    for country in countries_split:\n",
    "        if country:\n",
    "            try:\n",
    "                people.value += (get_country_population(country) + '\\n')\n",
    "            except:\n",
    "                people.value += (' At least one of the values could not be retrieved. Check if you have correct country names.' + '\\n')\n",
    "                return\n",
    "        else:\n",
    "            people.value += ('' + '\\n')\n",
    "        \n",
    "def get_country_population(country):\n",
    "    try:\n",
    "        r = requests.get('http://api.population.io:80/1.0/population/'+str(country)+'/2018-12-12/') #watchout: hardcoded date.\n",
    "        population = str(r.json()['total_population']['population'])\n",
    "        r.raise_for_status()\n",
    "        if r.status_code != 200:\n",
    "            print(r.status_code)\n",
    "        return population\n",
    "    except:\n",
    "        people.value = \"ERROR\"\n",
    "\n",
    "def mk_btn(description):\n",
    "    btn = ipw.Button(description=description, layout=ipw.Layout(width=\"300px\"))\n",
    "    btn.on_click(on_click)\n",
    "    return btn\n",
    "\n",
    "row0 = ipw.HBox([countries, people])\n",
    "row1 = ipw.HBox([mk_btn(\"Get Population\")])\n",
    "\n",
    "ipw.VBox((row0, row1))"
   ]
  }
 ],
 "metadata": {
  "kernelspec": {
   "display_name": "Python 3",
   "language": "python",
   "name": "python3"
  },
  "language_info": {
   "codemirror_mode": {
    "name": "ipython",
    "version": 3
   },
   "file_extension": ".py",
   "mimetype": "text/x-python",
   "name": "python",
   "nbconvert_exporter": "python",
   "pygments_lexer": "ipython3",
   "version": "3.6.3"
  }
 },
 "nbformat": 4,
 "nbformat_minor": 2
}
