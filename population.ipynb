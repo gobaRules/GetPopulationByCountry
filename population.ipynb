{
 "cells": [
  {
   "cell_type": "markdown",
   "metadata": {},
   "source": [
    "# And how many people live in your country?\n",
    "\n",
    "- Input (or paste) the names of the countries in the left textbox so that each name is in its own row.\n",
    "- Clik the button and population for each of the countries will (well, shall:) be displayed in the right textbox.\n"
   ]
  },
  {
   "cell_type": "code",
   "execution_count": null,
   "metadata": {},
   "outputs": [],
   "source": [
    "import ipywidgets as ipw\n",
    "import requests\n",
    "\n",
    "countries = ipw.Textarea(placeholder=\"Belgium\\nSlovenia\\nZimbabwe\", layout=ipw.Layout(width=\"300px\", height=\"250px\"))\n",
    "people = ipw.Textarea(placeholder=\"\", layout=ipw.Layout(width=\"300px\", height=\"250px\"))\n",
    "\n",
    "def on_click(btn): \n",
    "    #Get country names\n",
    "    country_names = get_country_names()\n",
    "    \n",
    "    people.value = ''\n",
    "    countries_split = countries.value.split('\\n')\n",
    "    print('Replaced names:\\n')\n",
    "    for country in countries_split:\n",
    "        if country:\n",
    "            try:\n",
    "                people.value += (get_country_population(country) + '\\n')\n",
    "            except:\n",
    "                try:\n",
    "                    country = replace_name_from_list(country_names, country)\n",
    "                    people.value += (get_country_population(country) + '\\n')\n",
    "                except:\n",
    "                    people.value += ('No Value' + '\\n')\n",
    "        else:\n",
    "            people.value += ('' + '\\n')\n",
    "        \n",
    "def get_country_population(country):\n",
    "    try:\n",
    "        r = requests.get('http://api.population.io:80/1.0/population/'+str(country)+'/2018-12-12/') #watchout: hardcoded date.\n",
    "        population = str(r.json()['total_population']['population'])\n",
    "        r.raise_for_status()\n",
    "        if r.status_code != 200:\n",
    "            print(r.status_code)\n",
    "        return population\n",
    "    except:\n",
    "        return None\n",
    "\n",
    "def get_country_names():\n",
    "    try:\n",
    "        r = requests.get('http://api.population.io:80/1.0/countries')\n",
    "        country_names = r.json()['countries']\n",
    "        r.raise_for_status()\n",
    "        if r.status_code != 200:\n",
    "            print(r.status_code)\n",
    "        return country_names\n",
    "    except:\n",
    "        return None\n",
    "    \n",
    "\n",
    "def replace_name_from_list(service_names, given_name):\n",
    "    \"\"\"\n",
    "    Try to replace the country name with similar one from the list. If no similar name found in hte list, do nothing.\n",
    "    \"\"\"\n",
    "    for name in service_names:\n",
    "        given_name1 = given_name.replace(\"&\", \"and\")\n",
    "        given_name1 = given_name1[0:-2]\n",
    "        if given_name1 in name:\n",
    "            print(given_name + \" -> \" + name)\n",
    "            return name   \n",
    "\n",
    "def mk_btn(description):\n",
    "    btn = ipw.Button(description=description, layout=ipw.Layout(width=\"605px\"))\n",
    "    btn.on_click(on_click)\n",
    "    return btn\n",
    "\n",
    "row0 = ipw.HBox([countries, people])\n",
    "row1 = ipw.HBox([mk_btn(\"Get Population\")])\n",
    "\n",
    "ipw.VBox((row0, row1))"
   ]
  },
  {
   "cell_type": "markdown",
   "metadata": {},
   "source": [
    "<small>Population is retrieved using \"Determine total population for a given country on a given date\" service found here: http://api.population.io/#!/population/determineTotalPopulationByDate</small>"
   ]
  }
 ],
 "metadata": {
  "kernelspec": {
   "display_name": "Python 3",
   "language": "python",
   "name": "python3"
  },
  "language_info": {
   "codemirror_mode": {
    "name": "ipython",
    "version": 3
   },
   "file_extension": ".py",
   "mimetype": "text/x-python",
   "name": "python",
   "nbconvert_exporter": "python",
   "pygments_lexer": "ipython3",
   "version": "3.6.3"
  }
 },
 "nbformat": 4,
 "nbformat_minor": 2
}
